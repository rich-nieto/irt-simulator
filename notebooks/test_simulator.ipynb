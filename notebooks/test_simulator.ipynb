{
 "cells": [
  {
   "cell_type": "code",
   "execution_count": null,
   "metadata": {},
   "outputs": [],
   "source": [
    "import sys\n",
    "import os\n",
    "\n",
    "# Get the path to the project root\n",
    "project_root = os.path.abspath(\"..\")  # \"..\" moves up one directory from /notebooks/\n",
    "sys.path.insert(0, project_root)\n",
    "\n",
    "from irtsimulator.simulator import IRTSimulator\n",
    "\n",
    "# Initialize simulator\n",
    "simulator = IRTSimulator(model=\"2PL\", n_respondents=500, n_items=20, seed=42)\n",
    "\n",
    "# Generate parameters\n",
    "a, b, theta = simulator.generate_parameters()\n",
    "\n",
    "# Simulate responses\n",
    "responses = simulator.simulate_responses()\n",
    "\n",
    "# Display results\n",
    "#print(\"Discrimination Parameters (a):\", a)\n",
    "#print(\"Difficulty Parameters (b):\", b)\n",
    "#print(\"Latent Abilities (theta):\", theta)\n",
    "#print(\"Simulated Responses:\")\n",
    "responses"
   ]
  },
  {
   "cell_type": "code",
   "execution_count": null,
   "metadata": {},
   "outputs": [],
   "source": []
  }
 ],
 "metadata": {
  "kernelspec": {
   "display_name": "irt-simulator",
   "language": "python",
   "name": "python3"
  },
  "language_info": {
   "codemirror_mode": {
    "name": "ipython",
    "version": 3
   },
   "file_extension": ".py",
   "mimetype": "text/x-python",
   "name": "python",
   "nbconvert_exporter": "python",
   "pygments_lexer": "ipython3",
   "version": "3.12.6"
  }
 },
 "nbformat": 4,
 "nbformat_minor": 2
}
